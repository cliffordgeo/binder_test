{
 "cells": [
  {
   "cell_type": "code",
   "execution_count": 1,
   "id": "bf47c5c7",
   "metadata": {},
   "outputs": [],
   "source": [
    "\n",
    "import obspy\n",
    "from obspy import UTCDateTime\n",
    "from obspy.clients.fdsn.mass_downloader import CircularDomain, \\\n",
    "    Restrictions, MassDownloader\n",
    "from obspy.io.xseed import Parser\n",
    "from obspy.signal import PPSD\n",
    "from obspy.signal import freqattributes\n",
    "import os\n",
    "from scipy.fft import fft, ifft, fftfreq, next_fast_len\n",
    "from scipy.integrate import cumtrapz\n",
    "import numpy as np\n",
    "import matplotlib.pyplot as plt\n",
    "import pandas as pd"
   ]
  },
  {
   "cell_type": "code",
   "execution_count": 3,
   "id": "0657f31b",
   "metadata": {},
   "outputs": [],
   "source": [
    "#data_path = r\"S:\\Duynefontyn PSHA - DuynefontynPSHA\\05 - GMM\\GMM_Scripts\\preprocessing\"\n",
    "#os.chdir(data_path)\n",
    "#import the resposne spectrum script from working directory\n",
    "from response import *\n",
    "from response_blz import *"
   ]
  },
  {
   "cell_type": "code",
   "execution_count": null,
   "id": "e1c7698e",
   "metadata": {},
   "outputs": [],
   "source": [
    "#read in 3 components for M4.5 at GRHM\n",
    "st = obspy.read(os.path.join(data_path, 'waveforms/*GRHM*')) \n",
    "#trim 300 - 600 sec from start    \n",
    "st.trim(st[2].stats.starttime+300, st[2].stats.starttime+600)\n",
    "#set st to just vertical component\n",
    "st = st[2]\n",
    "\n",
    "#katie's raw, cut sac file\n",
    "'''add corresponding sac commands'''\n",
    "st_sac = obspy.read(r\"C:/Users/TomClifford/SlateGeotech/Duynefontyn PSHA - DuynefontynPSHA/05 - GMM/GMM_Scripts/preprocessing/sac_traces/GRHM_HHZ_cut_raw.sac\")[0]\n",
    "\n",
    "print(st)\n",
    "print(st_sac)\n",
    "\n",
    "plt.figure(figsize=(12,5), dpi=300)\n",
    "plt.title('Raw Traces\\n'+ str(st), fontsize=10)\n",
    "plt.ylabel('Counts')\n",
    "plt.xlabel('Time (s)')\n",
    "plt.plot(st.times(), st.data, linewidth=1, color='r', label='Obspy (thicker line)')\n",
    "plt.plot(st_sac.times(), st_sac.data, linewidth=0.5, color='b', label='SAC')\n",
    "plt.legend()\n",
    " plt.show()\n",
    "#plt.savefig(os.path.join(data_path, 'obspy_sac_comparison', 'raw_traces'))\n",
    "#waveforms match\n"
   ]
  }
 ],
 "metadata": {
  "kernelspec": {
   "display_name": "Python 3",
   "language": "python",
   "name": "python3"
  },
  "language_info": {
   "codemirror_mode": {
    "name": "ipython",
    "version": 3
   },
   "file_extension": ".py",
   "mimetype": "text/x-python",
   "name": "python",
   "nbconvert_exporter": "python",
   "pygments_lexer": "ipython3",
   "version": "3.8.8"
  }
 },
 "nbformat": 4,
 "nbformat_minor": 5
}
